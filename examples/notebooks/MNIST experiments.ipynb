{
 "cells": [
  {
   "cell_type": "code",
   "execution_count": 1,
   "metadata": {},
   "outputs": [],
   "source": [
    "# Imports\n",
    "import torch\n",
    "cuda = torch.cuda.is_available()\n",
    "import numpy as np\n",
    "import matplotlib\n",
    "matplotlib.use(\"agg\")\n",
    "import matplotlib.pyplot as plt\n",
    "plt.switch_backend(\"agg\")\n",
    "import sys\n",
    "sys.path.append(\"../../semi-supervised\")\n",
    "\n",
    "from models import AuxiliaryDeepGenerativeModel, DeepGenerativeModel, StackedDeepGenerativeModel, VariationalAutoencoder"
   ]
  },
  {
   "cell_type": "code",
   "execution_count": 2,
   "metadata": {
    "scrolled": false
   },
   "outputs": [
    {
     "name": "stderr",
     "output_type": "stream",
     "text": [
      "../../semi-supervised/models/vae.py:260: UserWarning: nn.init.xavier_normal is now deprecated in favor of nn.init.xavier_normal_.\n",
      "  init.xavier_normal(m.weight.data)\n"
     ]
    },
    {
     "name": "stdout",
     "output_type": "stream",
     "text": [
      "50\n",
      "Linear layers! [ReLU(), BatchNorm1d(500, eps=1e-05, momentum=0.1, affine=True, track_running_stats=True)]\n",
      "784\n",
      "Linear layers! [ReLU(), BatchNorm1d(500, eps=1e-05, momentum=0.1, affine=True, track_running_stats=True), Linear(in_features=500, out_features=500, bias=True), ReLU(), BatchNorm1d(500, eps=1e-05, momentum=0.1, affine=True, track_running_stats=True)]\n"
     ]
    },
    {
     "name": "stderr",
     "output_type": "stream",
     "text": [
      "../../semi-supervised/models/dgm.py:84: UserWarning: nn.init.xavier_normal is now deprecated in favor of nn.init.xavier_normal_.\n",
      "  init.xavier_normal(m.weight.data)\n"
     ]
    },
    {
     "name": "stdout",
     "output_type": "stream",
     "text": [
      "[784, 100]\n",
      "Linear layers! [ReLU(), BatchNorm1d(500, eps=1e-05, momentum=0.1, affine=True, track_running_stats=True), Linear(in_features=500, out_features=500, bias=True), ReLU(), BatchNorm1d(500, eps=1e-05, momentum=0.1, affine=True, track_running_stats=True)]\n"
     ]
    }
   ],
   "source": [
    "features = VariationalAutoencoder([784, 50, [500, 500]]).cuda()\n",
    "features.load_state_dict(torch.load(\"./vae_mnist.ckpt\"))\n",
    "stacked = StackedDeepGenerativeModel([784, 10, 50, [500]], features)\n",
    "stacked.dgm.load_state_dict(torch.load(\"./m1m2_mnist.ckpt\"))\n",
    "stacked.dgm = stacked.dgm.cuda()\n",
    "\n",
    "adgm = AuxiliaryDeepGenerativeModel([784, 10, 100, 100, [500, 500]])\n",
    "adgm.load_state_dict(torch.load(\"./adgm_mnist.ckpt\"))\n",
    "adgm = adgm.cuda()\n",
    "\n",
    "\n"
   ]
  },
  {
   "cell_type": "code",
   "execution_count": 3,
   "metadata": {},
   "outputs": [],
   "source": [
    "from datautils import get_mnist, get_svhn\n",
    "\n",
    "labelled, unlabelled, validation, mnist_mean, mnist_std = get_mnist(location=\"./\", batch_size=100, labels_per_class=10, preprocess=False)\n"
   ]
  },
  {
   "cell_type": "code",
   "execution_count": 4,
   "metadata": {},
   "outputs": [
    {
     "name": "stderr",
     "output_type": "stream",
     "text": [
      "/home/mwolczyk/miniconda3/envs/pytorch_nightly/lib/python3.7/site-packages/torch/nn/functional.py:1382: UserWarning: nn.functional.sigmoid is deprecated. Use torch.sigmoid instead.\n",
      "  warnings.warn(\"nn.functional.sigmoid is deprecated. Use torch.sigmoid instead.\")\n"
     ]
    }
   ],
   "source": [
    "adgm.eval()\n",
    "stacked.dgm.eval()\n",
    "z_dim = 100\n",
    "\n",
    "z = torch.randn(100, z_dim).cuda()\n",
    "y = np.zeros((100, 10))\n",
    "y[np.arange(100), np.arange(100) // 10] = 1.\n",
    "y = torch.tensor(y, dtype=torch.float).cuda()\n",
    "\n",
    "x_mu = adgm.sample(z, y)\n"
   ]
  },
  {
   "cell_type": "code",
   "execution_count": 8,
   "metadata": {},
   "outputs": [
    {
     "name": "stdout",
     "output_type": "stream",
     "text": [
      "tensor(5.1100, device='cuda:0')\n"
     ]
    }
   ],
   "source": [
    "adgm.eval()\n",
    "\n",
    "accuracy = 0.\n",
    "for x, y in validation:\n",
    "\n",
    "    if cuda:\n",
    "        x, y = x.cuda(device=0), y.cuda(device=0)\n",
    "\n",
    "    # x, _, _ = features.encoder(x)\n",
    "    logits = adgm.classify(x)\n",
    "    _, pred_idx = torch.max(logits, 1)\n",
    "    _, lab_idx = torch.max(y, 1)\n",
    "    accuracy += torch.mean((torch.max(logits, 1)[1].data == torch.max(y, 1)[1].data).float())\n",
    "\n",
    "print(100 - accuracy)\n"
   ]
  },
  {
   "cell_type": "code",
   "execution_count": 6,
   "metadata": {},
   "outputs": [],
   "source": [
    "f, axarr = plt.subplots(10, 10, figsize=(10, 10))\n",
    "\n",
    "samples = x_mu.cpu().data.view(-1, 28, 28).numpy()\n",
    "# samples = x_mu.data.view(-1, 3, 32, 32).cpu().numpy().transpose(0, 2, 3, 1)\n",
    "\n",
    "\n",
    "# mnist_means = np.tile(mnist_mean.reshape((1, -1)), (len(samples), 1))\n",
    "# mnist_means[:, mnist_std > 0.1] = samples\n",
    "# samples = mnist_means.reshape(-1, 28, 28)\n",
    "\n",
    "\n",
    "for i, ax in enumerate(axarr.flat):\n",
    "    ax.imshow(samples[i], cmap=\"gray\")\n",
    "    ax.axis(\"off\")\n",
    "    ax.set_xticks([])\n",
    "    ax.set_yticks([])\n",
    "\n",
    "plt.tight_layout()\n",
    "plt.show()"
   ]
  },
  {
   "cell_type": "code",
   "execution_count": 9,
   "metadata": {
    "scrolled": false
   },
   "outputs": [],
   "source": [
    "from metrics import sample_from_classes, interpolation, cyclic_interpolation\n",
    "stacked.features.eval()\n",
    "\n",
    "im_shape = (28, 28, 1)\n",
    "classes_num = 10\n",
    "z_dim = 100\n",
    "labels_names = [str(idx) for idx in range(10)]\n",
    "\n",
    "cyclic_interpolation(\"adgm_mnist\", adgm, validation.dataset, im_shape, classes_num, labels_names)\n",
    "cyclic_interpolation(\"m1m2_mnist\", stacked, validation.dataset, im_shape, classes_num, labels_names)\n",
    "\n",
    "interpolation(\"adgm_mnist\", adgm, validation.dataset, im_shape)\n",
    "interpolation(\"m1m2_mnist\", stacked, validation.dataset, im_shape)\n",
    "\n",
    "sample_from_classes(\"adgm_mnist\", adgm, im_shape, 100, classes_num)\n",
    "sample_from_classes(\"m1m2_mnist\", stacked, im_shape, 50, classes_num)\n",
    "\n"
   ]
  },
  {
   "cell_type": "code",
   "execution_count": null,
   "metadata": {},
   "outputs": [],
   "source": []
  }
 ],
 "metadata": {
  "kernelspec": {
   "display_name": "Python 3",
   "language": "python",
   "name": "python3"
  },
  "language_info": {
   "codemirror_mode": {
    "name": "ipython",
    "version": 3
   },
   "file_extension": ".py",
   "mimetype": "text/x-python",
   "name": "python",
   "nbconvert_exporter": "python",
   "pygments_lexer": "ipython3",
   "version": "3.7.2"
  }
 },
 "nbformat": 4,
 "nbformat_minor": 2
}
