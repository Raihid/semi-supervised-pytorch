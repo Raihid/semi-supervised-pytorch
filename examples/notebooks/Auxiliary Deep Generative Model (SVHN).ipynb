{
 "cells": [
  {
   "cell_type": "code",
   "execution_count": 1,
   "metadata": {},
   "outputs": [],
   "source": [
    "# import sys\n",
    "# sys.path.append(\"../../semi-supervised\")\n",
    "# from functools import reduce\n",
    "# from operator import __or__\n",
    "# from torch.utils.data.sampler import SubsetRandomSampler\n",
    "# from torchvision.datasets import MNIST\n",
    "# import torchvision.transforms as transforms\n",
    "# from utils import onehot\n",
    "# \n",
    "# location = \"./\"\n",
    "# n_labels = 10\n",
    "# \n",
    "# mnist_train = MNIST(location, train=True, download=True)\n",
    "# numpy_mnist = mnist_train.data.numpy().reshape(-1, 784) / 255\n",
    "# mnist_mean = numpy_mnist.mean(0)\n",
    "# mnist_std = numpy_mnist.std(0)\n",
    "# \n",
    "# mnist_indices = np.where(mnist_std > 0.1)\n",
    "# \n",
    "# \n",
    "# \n",
    "# flatten_bernoulli = lambda x: transforms.ToTensor()(x).view(-1)[mnist_indices].bernoulli()\n",
    "# \n",
    "# mnist_train = MNIST(location, train=True, download=True,\n",
    "#                     transform=flatten_bernoulli, target_transform=onehot(n_labels))\n",
    "# mnist_valid = MNIST(location, train=False, download=True,\n",
    "#                     transform=flatten_bernoulli, target_transform=onehot(n_labels))\n",
    "# "
   ]
  },
  {
   "cell_type": "code",
   "execution_count": 2,
   "metadata": {
    "code_folding": [
     0
    ]
   },
   "outputs": [],
   "source": [
    "# Imports\n",
    "import torch\n",
    "cuda = torch.cuda.is_available()\n",
    "import numpy as np\n",
    "import matplotlib.pyplot as plt\n",
    "%matplotlib inline\n",
    "import sys\n",
    "sys.path.append(\"../../semi-supervised\")\n",
    "\n",
    "torch.multiprocessing.set_sharing_strategy('file_system')\n"
   ]
  },
  {
   "cell_type": "markdown",
   "metadata": {},
   "source": [
    "# Auxiliary Deep Generative Model\n",
    "\n",
    "The Auxiliary Deep Generative Model [[Maaløe, 2016]](https://arxiv.org/abs/1602.05473) posits a model that with an auxiliary latent variable $a$ that infers the variables $z$ and $y$. This helps in terms of semi-supervised learning by delegating causality to their respective variables. This model was state-of-the-art in semi-supervised until 2017, and is still very powerful with an MNIST accuracy of *99.4%* using just 10 labelled examples per class.\n",
    "\n",
    "<img src=\"../images/adgm.png\" width=\"400px\"/>\n"
   ]
  },
  {
   "cell_type": "code",
   "execution_count": 3,
   "metadata": {},
   "outputs": [
    {
     "name": "stderr",
     "output_type": "stream",
     "text": [
      "../../semi-supervised/models/vae.py:235: UserWarning: nn.init.xavier_normal is now deprecated in favor of nn.init.xavier_normal_.\n",
      "  init.xavier_normal(m.weight.data)\n"
     ]
    },
    {
     "name": "stdout",
     "output_type": "stream",
     "text": [
      "3072\n",
      "Linear layers in classifier [ReLU(), Linear(in_features=1000, out_features=1000, bias=True), ReLU()]\n",
      "[3072, 300]\n",
      "Linear layers in classifier [ReLU(), BatchNorm1d(1000, eps=1e-05, momentum=0.1, affine=True, track_running_stats=True), Linear(in_features=1000, out_features=1000, bias=True), ReLU(), BatchNorm1d(1000, eps=1e-05, momentum=0.1, affine=True, track_running_stats=True)]\n"
     ]
    },
    {
     "name": "stderr",
     "output_type": "stream",
     "text": [
      "../../semi-supervised/models/dgm.py:109: UserWarning: nn.init.xavier_normal is now deprecated in favor of nn.init.xavier_normal_.\n",
      "  init.xavier_normal(m.weight.data)\n"
     ]
    },
    {
     "data": {
      "text/plain": [
       "AuxiliaryDeepGenerativeModel(\n",
       "  (encoder): Encoder(\n",
       "    (first_dense): ModuleList(\n",
       "      (0): Linear(in_features=3072, out_features=1000, bias=True)\n",
       "      (1): Linear(in_features=10, out_features=1000, bias=True)\n",
       "      (2): Linear(in_features=300, out_features=1000, bias=True)\n",
       "    )\n",
       "    (hidden): ModuleList(\n",
       "      (0): ReLU()\n",
       "      (1): BatchNorm1d(1000, eps=1e-05, momentum=0.1, affine=True, track_running_stats=True)\n",
       "      (2): Linear(in_features=1000, out_features=1000, bias=True)\n",
       "      (3): ReLU()\n",
       "      (4): BatchNorm1d(1000, eps=1e-05, momentum=0.1, affine=True, track_running_stats=True)\n",
       "    )\n",
       "    (sample): GaussianSample(\n",
       "      (mu): Linear(in_features=1000, out_features=300, bias=True)\n",
       "      (log_var): Linear(in_features=1000, out_features=300, bias=True)\n",
       "    )\n",
       "  )\n",
       "  (decoder): Decoder(\n",
       "    (first_dense): ModuleList(\n",
       "      (0): Linear(in_features=300, out_features=1000, bias=True)\n",
       "      (1): Linear(in_features=10, out_features=1000, bias=True)\n",
       "    )\n",
       "    (hidden): ModuleList(\n",
       "      (0): ReLU()\n",
       "      (1): BatchNorm1d(1000, eps=1e-05, momentum=0.1, affine=True, track_running_stats=True)\n",
       "      (2): Linear(in_features=1000, out_features=1000, bias=True)\n",
       "      (3): ReLU()\n",
       "      (4): BatchNorm1d(1000, eps=1e-05, momentum=0.1, affine=True, track_running_stats=True)\n",
       "    )\n",
       "    (reconstruction): Linear(in_features=1000, out_features=3072, bias=True)\n",
       "  )\n",
       "  (classifier): Classifier(\n",
       "    (first_dense): ModuleList(\n",
       "      (0): Linear(in_features=3072, out_features=1000, bias=True)\n",
       "      (1): Linear(in_features=300, out_features=1000, bias=True)\n",
       "    )\n",
       "    (hidden): ModuleList(\n",
       "      (0): ReLU()\n",
       "      (1): BatchNorm1d(1000, eps=1e-05, momentum=0.1, affine=True, track_running_stats=True)\n",
       "      (2): Linear(in_features=1000, out_features=1000, bias=True)\n",
       "      (3): ReLU()\n",
       "      (4): BatchNorm1d(1000, eps=1e-05, momentum=0.1, affine=True, track_running_stats=True)\n",
       "    )\n",
       "    (logits): Linear(in_features=1000, out_features=10, bias=True)\n",
       "  )\n",
       "  (aux_encoder): Encoder(\n",
       "    (first_dense): ModuleList(\n",
       "      (0): Linear(in_features=3072, out_features=1000, bias=True)\n",
       "    )\n",
       "    (hidden): ModuleList(\n",
       "      (0): ReLU()\n",
       "      (1): BatchNorm1d(1000, eps=1e-05, momentum=0.1, affine=True, track_running_stats=True)\n",
       "      (2): Linear(in_features=1000, out_features=1000, bias=True)\n",
       "      (3): ReLU()\n",
       "      (4): BatchNorm1d(1000, eps=1e-05, momentum=0.1, affine=True, track_running_stats=True)\n",
       "    )\n",
       "    (sample): GaussianSample(\n",
       "      (mu): Linear(in_features=1000, out_features=300, bias=True)\n",
       "      (log_var): Linear(in_features=1000, out_features=300, bias=True)\n",
       "    )\n",
       "  )\n",
       ")"
      ]
     },
     "execution_count": 3,
     "metadata": {},
     "output_type": "execute_result"
    }
   ],
   "source": [
    "from models import AuxiliaryDeepGenerativeModel\n",
    "\n",
    "y_dim = 10\n",
    "# z_dim = 100\n",
    "z_dim = 300\n",
    "a_dim = 300\n",
    "# h_dim = [500, 500]\n",
    "h_dim = [1000, 1000]\n",
    "\n",
    "model = AuxiliaryDeepGenerativeModel([3072, y_dim, z_dim, a_dim, h_dim], batch_norm=True)\n",
    "model"
   ]
  },
  {
   "cell_type": "markdown",
   "metadata": {},
   "source": [
    "## Training\n",
    "\n",
    "The lower bound we derived in the notebook for the **deep generative model** is similar to the one for the ADGM. Here, we also need to integrate over a continuous auxiliary variable $a$.\n",
    "\n",
    "For labelled data, the lower bound is given by.\n",
    "\\begin{align}\n",
    "\\log p(x,y) &= \\log \\int \\int p(x, y, a, z) \\ dz \\ da\\\\\n",
    "&\\geq \\mathbb{E}_{q(a,z|x,y)} \\bigg [\\log \\frac{p(x,y,a,z)}{q(a,z|x,y)} \\bigg ] = - \\mathcal{L}(x,y)\n",
    "\\end{align}\n",
    "\n",
    "Again when no label information is available we sum out all of the labels.\n",
    "\n",
    "\\begin{align}\n",
    "\\log p(x) &= \\log \\int \\sum_{y} \\int p(x, y, a, z) \\ dz \\ da\\\\\n",
    "&\\geq \\mathbb{E}_{q(a,y,z|x)} \\bigg [\\log \\frac{p(x,y,a,z)}{q(a,y,z |x)} \\bigg ] = - \\mathcal{U}(x)\n",
    "\\end{align}\n",
    "\n",
    "Where we decompose the q-distribution into its constituent parts. $q(a, y, z|x) = q(z|a,y,x)q(y|a,x)q(a|x)$, which is also what can be seen in the figure.\n",
    "\n",
    "The distribution over $a$ is similar to $z$ in the sense that it is also a diagonal Gaussian distribution. However by introducing the auxiliary variable we allow for $z$ to become arbitrarily complex - something we can also see when using normalizing flows."
   ]
  },
  {
   "cell_type": "code",
   "execution_count": null,
   "metadata": {},
   "outputs": [
    {
     "name": "stdout",
     "output_type": "stream",
     "text": [
      "Using downloaded and verified file: ./train_32x32.mat\n",
      "Using downloaded and verified file: ./extra_32x32.mat\n",
      "Len of svhn train 604388\n",
      "Using downloaded and verified file: ./test_32x32.mat\n"
     ]
    }
   ],
   "source": [
    "from datautils import get_mnist, get_svhn\n",
    "\n",
    "# Only use 10 labelled examples per class\n",
    "# The rest of the data is unlabelled.\n",
    "# labelled, unlabelled, validation, mnist_mean, mnist_std = get_mnist(location=\"./\", batch_size=100, labels_per_class=10)\n",
    "labelled, unlabelled, validation, svhn_std = get_svhn(location=\"./\", batch_size=1000, labels_per_class=100, extra=True)\n",
    "\n",
    "alpha = .1 * (len(unlabelled) + len(labelled)) / len(labelled)\n",
    "\n",
    "def binary_cross_entropy(r, x):\n",
    "    return -torch.sum(x * torch.log(r + 1e-8) + (1 - x) * torch.log(1 - r + 1e-8), dim=-1)\n",
    "\n",
    "def mse(r, x):\n",
    "    return torch.sum(torch.pow(x - r, 2), dim=-1)\n",
    "\n"
   ]
  },
  {
   "cell_type": "code",
   "execution_count": null,
   "metadata": {},
   "outputs": [],
   "source": [
    "from itertools import cycle\n",
    "from inference import SVI, DeterministicWarmup, ImportanceWeightedSampler\n",
    "\n",
    "\n",
    "optimizer = torch.optim.Adam(model.parameters(), lr=3e-4, betas=(0.9, 0.999), weight_decay=0.5 / len(unlabelled))\n",
    "# We will need to use warm-up in order to achieve good performance.\n",
    "# Over 200 calls to SVI we change the autoencoder from\n",
    "# deterministic to stochastic.\n",
    "# beta = DeterministicWarmup(n=0)\n",
    "iw_sampler = ImportanceWeightedSampler(mc=1, iw=1)\n",
    "\n",
    "\n",
    "if cuda: model = model.cuda()\n",
    "elbo = SVI(model, likelihood=mse, sampler=iw_sampler)\n",
    "\n"
   ]
  },
  {
   "cell_type": "markdown",
   "metadata": {},
   "source": [
    "The library is conventially packed with the `SVI` method that does all of the work of calculating the lower bound for both labelled and unlabelled data depending on whether the label is given. It also manages to perform the enumeration of all the labels.\n",
    "\n",
    "Remember that the labels have to be in a *one-hot encoded* format in order to work with SVI."
   ]
  },
  {
   "cell_type": "code",
   "execution_count": null,
   "metadata": {
    "scrolled": false
   },
   "outputs": [
    {
     "data": {
      "application/vnd.jupyter.widget-view+json": {
       "model_id": "0ae010d2009f4fe6abd5a01faa0d8797",
       "version_major": 2,
       "version_minor": 0
      },
      "text/plain": [
       "HBox(children=(IntProgress(value=0, max=200), HTML(value='')))"
      ]
     },
     "metadata": {},
     "output_type": "display_data"
    },
    {
     "name": "stderr",
     "output_type": "stream",
     "text": [
      "/home/mwolczyk/miniconda3/envs/pytorch_nightly/lib/python3.7/site-packages/torch/nn/functional.py:1382: UserWarning: nn.functional.sigmoid is deprecated. Use torch.sigmoid instead.\n",
      "  warnings.warn(\"nn.functional.sigmoid is deprecated. Use torch.sigmoid instead.\")\n"
     ]
    },
    {
     "name": "stdout",
     "output_type": "stream",
     "text": [
      "Epoch: 0\n",
      "[Train]\t\t J_a: 142.9303, accuracy: 0.9156\n",
      "[Validation]\t J_a: 223.3537, accuracy: 0.5509\n",
      "Epoch: 1\n",
      "[Train]\t\t J_a: 77.6173, accuracy: 0.9997\n",
      "[Validation]\t J_a: 229.0869, accuracy: 0.5563\n",
      "Epoch: 2\n",
      "[Train]\t\t J_a: 69.5136, accuracy: 1.0000\n",
      "[Validation]\t J_a: 205.5329, accuracy: 0.5821\n",
      "Epoch: 3\n",
      "[Train]\t\t J_a: 64.5250, accuracy: 1.0000\n",
      "[Validation]\t J_a: 188.0209, accuracy: 0.6101\n",
      "Epoch: 4\n",
      "[Train]\t\t J_a: 61.5515, accuracy: 0.9999\n",
      "[Validation]\t J_a: 199.5943, accuracy: 0.5865\n",
      "Epoch: 5\n",
      "[Train]\t\t J_a: 59.5411, accuracy: 1.0000\n",
      "[Validation]\t J_a: 195.8496, accuracy: 0.5811\n",
      "Epoch: 6\n",
      "[Train]\t\t J_a: 58.2427, accuracy: 1.0000\n",
      "[Validation]\t J_a: 185.4322, accuracy: 0.6064\n",
      "Epoch: 7\n",
      "[Train]\t\t J_a: 57.1189, accuracy: 1.0000\n",
      "[Validation]\t J_a: 196.9429, accuracy: 0.5983\n",
      "Epoch: 8\n",
      "[Train]\t\t J_a: 56.4133, accuracy: 0.9999\n",
      "[Validation]\t J_a: 179.3221, accuracy: 0.6209\n",
      "Epoch: 9\n",
      "[Train]\t\t J_a: 55.7926, accuracy: 1.0000\n",
      "[Validation]\t J_a: 186.7382, accuracy: 0.6188\n",
      "Epoch: 10\n",
      "[Train]\t\t J_a: 55.6389, accuracy: 1.0000\n",
      "[Validation]\t J_a: 183.8089, accuracy: 0.6152\n",
      "Epoch: 11\n",
      "[Train]\t\t J_a: 54.9573, accuracy: 1.0000\n",
      "[Validation]\t J_a: 188.1554, accuracy: 0.6126\n",
      "Epoch: 12\n",
      "[Train]\t\t J_a: 54.8407, accuracy: 1.0000\n",
      "[Validation]\t J_a: 192.8101, accuracy: 0.6170\n",
      "Epoch: 13\n",
      "[Train]\t\t J_a: 55.0295, accuracy: 1.0000\n",
      "[Validation]\t J_a: 197.0046, accuracy: 0.6068\n",
      "Epoch: 14\n",
      "[Train]\t\t J_a: 54.3480, accuracy: 1.0000\n",
      "[Validation]\t J_a: 202.6519, accuracy: 0.6104\n",
      "Epoch: 15\n",
      "[Train]\t\t J_a: 53.8881, accuracy: 1.0000\n",
      "[Validation]\t J_a: 194.8529, accuracy: 0.6014\n",
      "Epoch: 16\n",
      "[Train]\t\t J_a: 53.5877, accuracy: 1.0000\n",
      "[Validation]\t J_a: 190.9939, accuracy: 0.6088\n",
      "Epoch: 17\n",
      "[Train]\t\t J_a: 53.5252, accuracy: 1.0000\n",
      "[Validation]\t J_a: 196.8855, accuracy: 0.6146\n",
      "Epoch: 18\n",
      "[Train]\t\t J_a: 53.2112, accuracy: 1.0000\n",
      "[Validation]\t J_a: 198.0722, accuracy: 0.6167\n"
     ]
    }
   ],
   "source": [
    "from torch.autograd import Variable\n",
    "from torch.nn.utils.clip_grad import clip_grad_value_, clip_grad_norm_\n",
    "\n",
    "from tqdm import tnrange\n",
    "\n",
    "for epoch in tnrange(200):\n",
    "    model.train()\n",
    "    total_loss, accuracy = (0, 0)\n",
    "    for (x, y), (u, _) in zip(cycle(labelled), unlabelled):\n",
    "        # Wrap in variables\n",
    "        x, y, u = Variable(x), Variable(y), Variable(u)\n",
    "\n",
    "        if cuda:\n",
    "            # They need to be on the same device and be synchronized.\n",
    "            x, y = x.cuda(device=0), y.cuda(device=0)\n",
    "            u = u.cuda(device=0)\n",
    "\n",
    "        L = -elbo(x, y)\n",
    "        U = -elbo(u)\n",
    "\n",
    "        # Add auxiliary classification loss q(y|x)\n",
    "        logits = model.classify(x)\n",
    "        \n",
    "        # Regular cross entropy\n",
    "        classication_loss = torch.sum(y * torch.log(logits + 1e-8), dim=1).mean()\n",
    "\n",
    "        J_alpha = L - alpha * classication_loss + U\n",
    "\n",
    "        J_alpha.backward()\n",
    "        clip_grad_norm_(model.parameters(), 5.)\n",
    "        clip_grad_value_(model.parameters(), 1.)\n",
    "        \n",
    "        optimizer.step()\n",
    "        optimizer.zero_grad()\n",
    "\n",
    "        total_loss += J_alpha.item()\n",
    "        accuracy += torch.mean((torch.max(logits, 1)[1].data == torch.max(y, 1)[1].data).float())\n",
    "        \n",
    "    if epoch % 1 == 0:\n",
    "        model.eval()\n",
    "        m = len(unlabelled)\n",
    "        print(\"Epoch: {}\".format(epoch))\n",
    "        print(\"[Train]\\t\\t J_a: {:.4f}, accuracy: {:.4f}\".format(total_loss / m, accuracy / m))\n",
    "\n",
    "        total_loss, accuracy = (0, 0)\n",
    "        for x, y in validation:\n",
    "            x, y = Variable(x), Variable(y)\n",
    "\n",
    "            if cuda:\n",
    "                x, y = x.cuda(device=0), y.cuda(device=0)\n",
    "\n",
    "            L = -elbo(x, y)\n",
    "            U = -elbo(x)\n",
    "\n",
    "            x = x.repeat(10, 1)\n",
    "            logits = model.classify(x)\n",
    "            logits = logits.reshape(10, -1, logits.shape[-1]).mean(0)\n",
    "            \n",
    "            classication_loss = -torch.sum(y * torch.log(logits + 1e-8), dim=1).mean()\n",
    "\n",
    "            J_alpha = L + alpha * classication_loss + U\n",
    "\n",
    "            total_loss += J_alpha.item()\n",
    "\n",
    "            _, pred_idx = torch.max(logits, 1)\n",
    "            _, lab_idx = torch.max(y, 1)\n",
    "            accuracy += torch.mean((torch.max(logits, 1)[1].data == torch.max(y, 1)[1].data).float())\n",
    "\n",
    "        m = len(validation)\n",
    "        print(\"[Validation]\\t J_a: {:.4f}, accuracy: {:.4f}\".format(total_loss / m, accuracy / m))"
   ]
  },
  {
   "cell_type": "code",
   "execution_count": null,
   "metadata": {},
   "outputs": [],
   "source": [
    "print(accuracy / m)\n",
    "print(epoch)"
   ]
  },
  {
   "cell_type": "markdown",
   "metadata": {},
   "source": [
    "## Conditional generation\n",
    "\n",
    "When the model is done training you can generate samples conditionally given some normal distributed noise $z$ and a label $y$.\n",
    "\n",
    "*The model below has only trained for 10 iterations, so the perfomance is not representative*."
   ]
  },
  {
   "cell_type": "code",
   "execution_count": null,
   "metadata": {},
   "outputs": [],
   "source": [
    "from utils import onehot\n",
    "model.eval()\n",
    "\n",
    "z_dim = 300\n",
    "z = torch.randn(1, z_dim).repeat(100, 1).cuda()\n",
    "\n",
    "# Generate a batch of 5s\n",
    "ys = []\n",
    "for y_idx in range(10):\n",
    "    for step in range(10):\n",
    "        interval = step / 10\n",
    "        one_hot = [0] * 10\n",
    "        one_hot[y_idx] = (1 - interval)\n",
    "        one_hot[(y_idx + 1) % 10] = interval\n",
    "        ys += [one_hot]\n",
    "y = torch.tensor(ys).view(10 * 10, -1).cuda()\n",
    "print(y.shape)\n",
    "\n",
    "\n",
    "# z = torch.randn(5, 1, z_dim).repeat(1, 16, 1).reshape(5 * 16, z_dim).cuda()\n",
    "# y = np.zeros((5, 16, 10))\n",
    "\n",
    "# for y_idx in range(16):\n",
    "#     y[:, y_idx, 4] = y_idx / 16\n",
    "#     y[:, y_idx, 5] = 1 - (y_idx / 16)\n",
    "# y = torch.tensor(y.reshape(5 * 16, 10)).cuda()\n",
    "\n",
    "\n",
    "y = (y + 0.5).int().float()\n",
    "z = torch.randn(100, 300).cuda()\n",
    "x_mu = model.sample(z, y)\n",
    "\n",
    "print(x_mu.shape)"
   ]
  },
  {
   "cell_type": "code",
   "execution_count": null,
   "metadata": {},
   "outputs": [],
   "source": [
    "f, axarr = plt.subplots(10, 10, figsize=(10, 10))\n",
    "\n",
    "# samples = x_mu.cpu().data.view(-1, 32, 32, 3).numpy()\n",
    "samples = x_mu.data.view(-1, 3, 32, 32).cpu().numpy().transpose(0, 2, 3, 1)\n",
    "\n",
    "\n",
    "# mnist_means = np.tile(mnist_mean.reshape((1, -1)), (len(samples), 1))\n",
    "# mnist_means[:, mnist_std > 0.1] = samples\n",
    "# mnist_means = mnist_means.reshape(-1, 28, 28)\n",
    "\n",
    "\n",
    "\n",
    "for i, ax in enumerate(axarr.flat):\n",
    "    ax.imshow(samples[i], cmap=\"gray\")\n",
    "    ax.axis(\"off\")\n",
    "    ax.set_xticks([])\n",
    "    ax.set_yticks([])\n",
    "\n",
    "plt.tight_layout()\n",
    "plt.show()"
   ]
  },
  {
   "cell_type": "code",
   "execution_count": null,
   "metadata": {},
   "outputs": [],
   "source": [
    "# torch.save(model.state_dict(), \"./adgm_svhn_weights.ckpt\")"
   ]
  },
  {
   "cell_type": "code",
   "execution_count": null,
   "metadata": {},
   "outputs": [],
   "source": []
  }
 ],
 "metadata": {
  "kernelspec": {
   "display_name": "Python 3",
   "language": "python",
   "name": "python3"
  },
  "language_info": {
   "codemirror_mode": {
    "name": "ipython",
    "version": 3
   },
   "file_extension": ".py",
   "mimetype": "text/x-python",
   "name": "python",
   "nbconvert_exporter": "python",
   "pygments_lexer": "ipython3",
   "version": "3.7.2"
  }
 },
 "nbformat": 4,
 "nbformat_minor": 2
}
