{
 "cells": [
  {
   "cell_type": "code",
   "execution_count": 1,
   "metadata": {},
   "outputs": [],
   "source": [
    "# Imports\n",
    "import torch\n",
    "cuda = torch.cuda.is_available()\n",
    "import numpy as np\n",
    "import matplotlib\n",
    "matplotlib.use(\"agg\")\n",
    "import matplotlib.pyplot as plt\n",
    "plt.switch_backend(\"agg\")\n",
    "import sys\n",
    "sys.path.append(\"../../semi-supervised\")\n",
    "\n",
    "torch.multiprocessing.set_sharing_strategy('file_system')\n",
    "\n",
    "from models import AuxiliaryDeepGenerativeModel, DeepGenerativeModel, StackedDeepGenerativeModel, VariationalAutoencoder"
   ]
  },
  {
   "cell_type": "code",
   "execution_count": 2,
   "metadata": {
    "scrolled": false
   },
   "outputs": [
    {
     "name": "stderr",
     "output_type": "stream",
     "text": [
      "../../semi-supervised/models/vae.py:260: UserWarning: nn.init.xavier_normal is now deprecated in favor of nn.init.xavier_normal_.\n",
      "  init.xavier_normal(m.weight.data)\n"
     ]
    },
    {
     "name": "stdout",
     "output_type": "stream",
     "text": [
      "300\n",
      "Linear layers! [ReLU(), BatchNorm1d(256, eps=1e-05, momentum=0.1, affine=True, track_running_stats=True), Linear(in_features=256, out_features=256, bias=True), ReLU(), BatchNorm1d(256, eps=1e-05, momentum=0.1, affine=True, track_running_stats=True)]\n",
      "1024\n",
      "Linear layers! [ReLU(), BatchNorm1d(256, eps=1e-05, momentum=0.1, affine=True, track_running_stats=True)]\n",
      "[1024, 300]\n",
      "Linear layers! [ReLU(), BatchNorm1d(256, eps=1e-05, momentum=0.1, affine=True, track_running_stats=True)]\n"
     ]
    },
    {
     "name": "stderr",
     "output_type": "stream",
     "text": [
      "../../semi-supervised/models/dgm.py:84: UserWarning: nn.init.xavier_normal is now deprecated in favor of nn.init.xavier_normal_.\n",
      "  init.xavier_normal(m.weight.data)\n"
     ]
    }
   ],
   "source": [
    "features = VariationalAutoencoder([64 * 64 * 3, 300, [300]], conv=True).cuda()\n",
    "features.load_state_dict(torch.load(\"./vae_celeba.ckpt\"))\n",
    "stacked = StackedDeepGenerativeModel([64 * 64 * 3, 4, 50, [256, 256]], features)\n",
    "stacked.dgm.load_state_dict(torch.load(\"./m1m2_celeba.ckpt\"))\n",
    "stacked.dgm = stacked.dgm.cuda()\n",
    "\n",
    "adgm = AuxiliaryDeepGenerativeModel([64 * 64 * 3, 4, 300, 300, [256]], conv=True)\n",
    "adgm.load_state_dict(torch.load(\"./adgm_celeba.ckpt\"))\n",
    "adgm = adgm.cuda()\n",
    "\n",
    "\n"
   ]
  },
  {
   "cell_type": "code",
   "execution_count": 3,
   "metadata": {},
   "outputs": [
    {
     "data": {
      "application/vnd.jupyter.widget-view+json": {
       "model_id": "c158e8fc66bf43108d886045303095f3",
       "version_major": 2,
       "version_minor": 0
      },
      "text/plain": [
       "HBox(children=(IntProgress(value=0, max=202610), HTML(value='')))"
      ]
     },
     "metadata": {},
     "output_type": "display_data"
    }
   ],
   "source": [
    "from datautils import get_celeba\n",
    "\n",
    "labelled, unlabelled, validation, labels_names = get_celeba(location=\"./\", batch_size=1000, labels_per_class=100)"
   ]
  },
  {
   "cell_type": "code",
   "execution_count": 12,
   "metadata": {},
   "outputs": [
    {
     "data": {
      "application/vnd.jupyter.widget-view+json": {
       "model_id": "be72fea1ec60408596fb159b5e192778",
       "version_major": 2,
       "version_minor": 0
      },
      "text/plain": [
       "HBox(children=(IntProgress(value=0, max=18), HTML(value='')))"
      ]
     },
     "metadata": {},
     "output_type": "display_data"
    },
    {
     "name": "stdout",
     "output_type": "stream",
     "text": [
      "Accuracy 0.591\tError: 0.409\n"
     ]
    }
   ],
   "source": [
    "from tqdm import tqdm_notebook\n",
    "stacked.features.eval()\n",
    "stacked.dgm.eval()\n",
    "adgm.eval()\n",
    "\n",
    "correct_preds = 0\n",
    "for x, y in tqdm_notebook(validation):\n",
    "\n",
    "    if cuda:\n",
    "        x, y = x.cuda(device=0), y.cuda(device=0)\n",
    "        \n",
    "    # print(y)\n",
    "\n",
    "    # x, _, _ = stacked.features.encode(x)\n",
    "    # logits = stacked.dgm.classify(x)\n",
    "    \n",
    "    logits = adgm.classify(x)\n",
    "    _, pred_idx = torch.max(logits, 1)\n",
    "    _, lab_idx = torch.max(y, 1)\n",
    "    correct_preds += torch.sum((torch.max(logits, 1)[1].data == torch.max(y, 1)[1].data).float())\n",
    "\n",
    "accuracy = (correct_preds / len(validation.dataset)).item()\n",
    "print(\"Accuracy {:.3f}\\tError: {:.3f}\".format(accuracy, 1 - accuracy))\n"
   ]
  },
  {
   "cell_type": "code",
   "execution_count": 3,
   "metadata": {
    "scrolled": false
   },
   "outputs": [],
   "source": [
    "from metrics import sample_from_classes, interpolation, cyclic_interpolation, save_samples\n",
    "from tqdm import trange\n",
    "\n",
    "adgm.eval()\n",
    "stacked.dgm.eval()\n",
    "stacked.features.eval()\n",
    "\n",
    "im_shape = [64, 64, 3]\n",
    "classes_num = 4\n",
    "z_dim = 300\n",
    "labels_names = [\"F/NS\", \"F/S\", \"M/NS\", \"M/S\"]\n",
    "\n"
   ]
  },
  {
   "cell_type": "code",
   "execution_count": null,
   "metadata": {},
   "outputs": [],
   "source": [
    "cyclic_interpolation(\"adgm_celeba\", adgm, validation.dataset, im_shape, classes_num, labels_names)\n",
    "cyclic_interpolation(\"m1m2_celeba\", stacked, validation.dataset, im_shape, classes_num, labels_names)\n",
    "\n",
    "interpolation(\"adgm_celeba\", adgm, validation.dataset, im_shape)\n",
    "interpolation(\"m1m2_celeba\", stacked, validation.dataset, im_shape)\n",
    "\n",
    "sample_from_classes(\"adgm_celeba\", adgm, im_shape, 300, classes_num)\n",
    "sample_from_classes(\"m1m2_celeba\", stacked, im_shape, 50, classes_num)\n"
   ]
  },
  {
   "cell_type": "code",
   "execution_count": 4,
   "metadata": {},
   "outputs": [
    {
     "name": "stderr",
     "output_type": "stream",
     "text": [
      "  0%|          | 0/4 [00:00<?, ?it/s]/home/mwolczyk/miniconda3/envs/pytorch_nightly/lib/python3.7/site-packages/torch/nn/functional.py:1382: UserWarning: nn.functional.sigmoid is deprecated. Use torch.sigmoid instead.\n",
      "  warnings.warn(\"nn.functional.sigmoid is deprecated. Use torch.sigmoid instead.\")\n",
      "100%|██████████| 4/4 [00:11<00:00,  2.97s/it]\n",
      "100%|██████████| 4/4 [00:15<00:00,  3.83s/it]\n"
     ]
    }
   ],
   "source": [
    "save_samples(\"adgm_celeba\", adgm, im_shape, 10000, classes_num, 300)\n",
    "save_samples(\"m1m2_celeba\", stacked, im_shape, 10000, classes_num, 50)"
   ]
  },
  {
   "cell_type": "markdown",
   "metadata": {},
   "source": [
    "# "
   ]
  },
  {
   "cell_type": "code",
   "execution_count": null,
   "metadata": {},
   "outputs": [],
   "source": []
  }
 ],
 "metadata": {
  "kernelspec": {
   "display_name": "Python 3",
   "language": "python",
   "name": "python3"
  },
  "language_info": {
   "codemirror_mode": {
    "name": "ipython",
    "version": 3
   },
   "file_extension": ".py",
   "mimetype": "text/x-python",
   "name": "python",
   "nbconvert_exporter": "python",
   "pygments_lexer": "ipython3",
   "version": "3.7.2"
  }
 },
 "nbformat": 4,
 "nbformat_minor": 2
}
