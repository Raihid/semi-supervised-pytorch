{
 "cells": [
  {
   "cell_type": "code",
   "execution_count": 1,
   "metadata": {},
   "outputs": [],
   "source": [
    "# Imports\n",
    "import torch\n",
    "cuda = torch.cuda.is_available()\n",
    "import numpy as np\n",
    "import matplotlib\n",
    "matplotlib.use(\"agg\")\n",
    "import matplotlib.pyplot as plt\n",
    "plt.switch_backend(\"agg\")\n",
    "import sys\n",
    "sys.path.append(\"../../semi-supervised\")\n",
    "\n",
    "torch.multiprocessing.set_sharing_strategy('file_system')\n",
    "\n",
    "from models import AuxiliaryDeepGenerativeModel, DeepGenerativeModel, StackedDeepGenerativeModel, VariationalAutoencoder"
   ]
  },
  {
   "cell_type": "code",
   "execution_count": 2,
   "metadata": {
    "scrolled": false
   },
   "outputs": [
    {
     "name": "stderr",
     "output_type": "stream",
     "text": [
      "../../semi-supervised/models/vae.py:238: UserWarning: nn.init.xavier_normal is now deprecated in favor of nn.init.xavier_normal_.\n",
      "  init.xavier_normal(m.weight.data)\n"
     ]
    },
    {
     "name": "stdout",
     "output_type": "stream",
     "text": [
      "300\n"
     ]
    },
    {
     "name": "stderr",
     "output_type": "stream",
     "text": [
      "../../semi-supervised/models/dgm.py:109: UserWarning: nn.init.xavier_normal is now deprecated in favor of nn.init.xavier_normal_.\n",
      "  init.xavier_normal(m.weight.data)\n"
     ]
    },
    {
     "name": "stdout",
     "output_type": "stream",
     "text": [
      "3072\n",
      "[3072, 300]\n"
     ]
    },
    {
     "data": {
      "text/plain": [
       "VariationalAutoencoder(\n",
       "  (encoder): Encoder(\n",
       "    (first_dense): ModuleList(\n",
       "      (0): Linear(in_features=3072, out_features=600, bias=True)\n",
       "    )\n",
       "    (hidden): ModuleList(\n",
       "      (0): Softplus(beta=1, threshold=20)\n",
       "      (1): Linear(in_features=600, out_features=600, bias=True)\n",
       "      (2): Softplus(beta=1, threshold=20)\n",
       "    )\n",
       "    (sample): GaussianSample(\n",
       "      (mu): Linear(in_features=600, out_features=300, bias=True)\n",
       "      (log_var): Linear(in_features=600, out_features=300, bias=True)\n",
       "    )\n",
       "  )\n",
       "  (decoder): Decoder(\n",
       "    (first_dense): ModuleList(\n",
       "      (0): Linear(in_features=300, out_features=600, bias=True)\n",
       "    )\n",
       "    (hidden): ModuleList(\n",
       "      (0): Softplus(beta=1, threshold=20)\n",
       "      (1): Linear(in_features=600, out_features=600, bias=True)\n",
       "      (2): Softplus(beta=1, threshold=20)\n",
       "    )\n",
       "    (reconstruction): Linear(in_features=600, out_features=3072, bias=True)\n",
       "  )\n",
       ")"
      ]
     },
     "execution_count": 2,
     "metadata": {},
     "output_type": "execute_result"
    }
   ],
   "source": [
    "features = VariationalAutoencoder(\n",
    "    [32 * 32 * 3, 300, [600, 600]],\n",
    "    activation_fn=torch.nn.Softplus,\n",
    "    batch_norm=False).cuda()\n",
    "features.load_state_dict(torch.load(\"./vae_svhn_new.ckpt\"))\n",
    "\n",
    "stacked = StackedDeepGenerativeModel(\n",
    "    [32 * 32 * 3, 10, 100, [500]],\n",
    "    features,\n",
    "    activation_fn=torch.nn.Softplus,\n",
    "    batch_norm=False\n",
    ")\n",
    "\n",
    "stacked.dgm.load_state_dict(torch.load(\"./m1m2_svhn_new.ckpt\"))\n",
    "stacked.dgm = stacked.dgm.cuda()\n",
    "\n",
    "adgm = AuxiliaryDeepGenerativeModel([3072, 10, 300, 300, [1000, 1000]], batch_norm=False)\n",
    "adgm.load_state_dict(torch.load(\"./adgm_svhn_new.ckpt\"))\n",
    "adgm = adgm.cuda()\n",
    "\n",
    "adgm.eval()\n",
    "stacked.dgm.eval()\n",
    "stacked.features.eval()\n",
    "\n"
   ]
  },
  {
   "cell_type": "code",
   "execution_count": 3,
   "metadata": {},
   "outputs": [
    {
     "name": "stdout",
     "output_type": "stream",
     "text": [
      "Using downloaded and verified file: ./train_32x32.mat\n",
      "Len of svhn train 73257\n",
      "Using downloaded and verified file: ./test_32x32.mat\n"
     ]
    }
   ],
   "source": [
    "from datautils import get_mnist, get_svhn\n",
    "\n",
    "labelled, unlabelled, validation, _ = get_svhn(location=\"./\", batch_size=1000, labels_per_class=100, extra=False)\n",
    "\n"
   ]
  },
  {
   "cell_type": "code",
   "execution_count": 4,
   "metadata": {},
   "outputs": [
    {
     "name": "stderr",
     "output_type": "stream",
     "text": [
      "/home/mwolczyk/miniconda3/envs/pytorch_nightly/lib/python3.7/site-packages/torch/nn/functional.py:1382: UserWarning: nn.functional.sigmoid is deprecated. Use torch.sigmoid instead.\n",
      "  warnings.warn(\"nn.functional.sigmoid is deprecated. Use torch.sigmoid instead.\")\n"
     ]
    }
   ],
   "source": [
    "z_dim = 300\n",
    "\n",
    "z = torch.randn(100, z_dim).cuda()\n",
    "y = np.zeros((100, 10))\n",
    "y[np.arange(100), np.arange(100) // 10] = 1\n",
    "y = torch.tensor(y, dtype=torch.float).cuda()\n",
    "\n",
    "x_mu = adgm.sample(z, y)\n"
   ]
  },
  {
   "cell_type": "code",
   "execution_count": 6,
   "metadata": {},
   "outputs": [
    {
     "data": {
      "application/vnd.jupyter.widget-view+json": {
       "model_id": "a04b6254e28d45328345936dcc7f7245",
       "version_major": 2,
       "version_minor": 0
      },
      "text/plain": [
       "HBox(children=(IntProgress(value=0, max=27), HTML(value='')))"
      ]
     },
     "metadata": {},
     "output_type": "display_data"
    },
    {
     "name": "stdout",
     "output_type": "stream",
     "text": [
      "\n",
      "ADGM Accuracy 0.589\tError: 0.411\n"
     ]
    },
    {
     "data": {
      "application/vnd.jupyter.widget-view+json": {
       "model_id": "a3ab28d129b84fdcbeb38f59d91e2de7",
       "version_major": 2,
       "version_minor": 0
      },
      "text/plain": [
       "HBox(children=(IntProgress(value=0, max=27), HTML(value='')))"
      ]
     },
     "metadata": {},
     "output_type": "display_data"
    },
    {
     "name": "stdout",
     "output_type": "stream",
     "text": [
      "\n",
      "Stacked Accuracy 0.346\tError: 0.654\n"
     ]
    }
   ],
   "source": [
    "from tqdm import tqdm_notebook\n",
    "adgm.eval()\n",
    "\n",
    "correct_preds = 0\n",
    "for x, y in tqdm_notebook(validation):\n",
    "\n",
    "    if cuda:\n",
    "        x, y = x.cuda(device=0), y.cuda(device=0)\n",
    "        \n",
    "    # print(y)\n",
    "\n",
    "    # x, _, _ = features.encoder(x)\n",
    "    x = x.repeat(10, 1)\n",
    "    logits = adgm.classify(x)\n",
    "    logits = logits.reshape(10, -1, logits.shape[-1]).mean(0)\n",
    "    _, pred_idx = torch.max(logits, 1)\n",
    "    _, lab_idx = torch.max(y, 1)\n",
    "    correct_preds += torch.sum((torch.max(logits, 1)[1].data == torch.max(y, 1)[1].data).float())\n",
    "\n",
    "accuracy = (correct_preds / len(validation.dataset)).item()\n",
    "print(\"ADGM Accuracy {:.3f}\\tError: {:.3f}\".format(accuracy, 1 - accuracy))\n",
    "\n",
    "stacked.features.eval()\n",
    "stacked.dgm.eval()\n",
    "correct_preds = 0\n",
    "for x, y in tqdm_notebook(validation):\n",
    "\n",
    "    if cuda:\n",
    "        x, y = x.cuda(device=0), y.cuda(device=0)\n",
    "        \n",
    "    # print(y)\n",
    "\n",
    "    x, _, _ = stacked.features.encoder(x)\n",
    "    logits = stacked.dgm.classify(x)\n",
    "    _, pred_idx = torch.max(logits, 1)\n",
    "    _, lab_idx = torch.max(y, 1)\n",
    "    correct_preds += torch.sum((torch.max(logits, 1)[1].data == torch.max(y, 1)[1].data).float())\n",
    "\n",
    "accuracy = (correct_preds / len(validation.dataset)).item()\n",
    "print(\"Stacked Accuracy {:.3f}\\tError: {:.3f}\".format(accuracy, 1 - accuracy))\n"
   ]
  },
  {
   "cell_type": "code",
   "execution_count": 13,
   "metadata": {
    "scrolled": false
   },
   "outputs": [],
   "source": [
    "from metrics import sample_from_classes, interpolation, cyclic_interpolation, save_samples\n",
    "\n",
    "adgm.eval()\n",
    "stacked.dgm.eval()\n",
    "stacked.features.eval()\n",
    "\n",
    "im_shape = [32, 32, 3]\n",
    "classes_num = 10\n",
    "z_dim = 100\n",
    "labels_names = [str(idx) for idx in range(10)]\n",
    "\n"
   ]
  },
  {
   "cell_type": "code",
   "execution_count": 15,
   "metadata": {},
   "outputs": [],
   "source": [
    "cyclic_interpolation(\"adgm_svhn\", adgm, validation.dataset, im_shape, classes_num, labels_names)\n",
    "cyclic_interpolation(\"m1m2_svhn\", stacked, validation.dataset, im_shape, classes_num, labels_names)\n",
    "\n",
    "interpolation(\"adgm_svhn\", adgm, validation.dataset, im_shape)\n",
    "interpolation(\"m1m2_svhn\", stacked, validation.dataset, im_shape)\n",
    "\n",
    "sample_from_classes(\"adgm_svhn\", adgm, im_shape, 300, classes_num)\n",
    "sample_from_classes(\"m1m2_svhn\", stacked, im_shape, 100, classes_num)"
   ]
  },
  {
   "cell_type": "code",
   "execution_count": 17,
   "metadata": {},
   "outputs": [
    {
     "name": "stderr",
     "output_type": "stream",
     "text": [
      "100%|██████████| 10/10 [00:03<00:00,  2.61it/s]\n",
      "100%|██████████| 10/10 [00:04<00:00,  2.24it/s]\n"
     ]
    }
   ],
   "source": [
    "save_samples(\"adgm_svhn\", adgm, im_shape, 10000, classes_num, 300)\n",
    "save_samples(\"m1m2_svhn\", stacked, im_shape, 10000, classes_num, 100)"
   ]
  },
  {
   "cell_type": "code",
   "execution_count": null,
   "metadata": {},
   "outputs": [],
   "source": []
  }
 ],
 "metadata": {
  "kernelspec": {
   "display_name": "Python 3",
   "language": "python",
   "name": "python3"
  },
  "language_info": {
   "codemirror_mode": {
    "name": "ipython",
    "version": 3
   },
   "file_extension": ".py",
   "mimetype": "text/x-python",
   "name": "python",
   "nbconvert_exporter": "python",
   "pygments_lexer": "ipython3",
   "version": "3.7.2"
  }
 },
 "nbformat": 4,
 "nbformat_minor": 2
}
